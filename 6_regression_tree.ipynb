{
  "cells": [
    {
      "cell_type": "markdown",
      "metadata": {
        "id": "view-in-github",
        "colab_type": "text"
      },
      "source": [
        "<a href=\"https://colab.research.google.com/github/jasonhsu0809/Data-Science/blob/main/6_regression_tree.ipynb\" target=\"_parent\"><img src=\"https://colab.research.google.com/assets/colab-badge.svg\" alt=\"Open In Colab\"/></a>"
      ]
    },
    {
      "cell_type": "markdown",
      "metadata": {
        "id": "3a84f320-ab4d-4f08-ab3f-2b20dab206d9"
      },
      "source": [
        "<center>\n",
        "    <img src=\"https://cf-courses-data.s3.us.cloud-object-storage.appdomain.cloud/assets/logos/SN_web_lightmode.png\" width=\"300\" alt=\"cognitiveclass.ai logo\">\n",
        "</center>\n"
      ]
    },
    {
      "cell_type": "markdown",
      "metadata": {
        "id": "ba14e11f-6ccf-4db5-9f2e-5bf9e2613f3e"
      },
      "source": [
        "# **Taxi Tip Prediction using Scikit-Learn and Snap ML**\n"
      ]
    },
    {
      "cell_type": "markdown",
      "metadata": {
        "id": "e9eb7db6-dec1-40a7-9245-e108bb86cafc"
      },
      "source": [
        "Estimated time needed: **30** minutes\n"
      ]
    },
    {
      "cell_type": "markdown",
      "metadata": {
        "id": "d646ea7c-68f4-4e92-a401-5d5c277fb05d"
      },
      "source": [
        "In this exercise session you will consolidate your machine learning (ML) modeling skills by using a popular regression model: Decision Tree. You will use a real dataset to train such a model. The dataset includes information about taxi tip and was collected and provided to the NYC Taxi and Limousine Commission (TLC) by technology providers authorized under the Taxicab & Livery Passenger Enhancement Programs (TPEP/LPEP). You will use the trained model to predict the amount of tip paid. \n",
        "\n",
        "In the current exercise session, you will practice not only the Scikit-Learn Python interface, but also the Python API offered by the Snap Machine Learning (Snap ML) library. Snap ML is a high-performance IBM library for ML modeling. It provides highly-efficient CPU/GPU implementations of linear models and tree-based models. Snap ML not only accelerates ML algorithms through system awareness, but it also offers novel ML algorithms with best-in-class accuracy. For more information, please visit [snapml](https://ibm.biz/BdPfxy?utm_medium=Exinfluencer&utm_source=Exinfluencer&utm_content=000026UJ&utm_term=10006555&utm_id=NA-SkillsNetwork-Channel-SkillsNetworkCoursesIBMDeveloperSkillsNetworkML0101ENSkillsNetwork1047-2022-01-01) information page.\n"
      ]
    },
    {
      "cell_type": "markdown",
      "metadata": {
        "id": "1758a127-b446-4337-850b-59b757c74690"
      },
      "source": [
        "## Objectives\n"
      ]
    },
    {
      "cell_type": "markdown",
      "metadata": {
        "id": "2bbb1fc3-9de3-41e6-a11e-95970fa71af6"
      },
      "source": [
        "After completing this lab you will be able to:\n"
      ]
    },
    {
      "cell_type": "markdown",
      "metadata": {
        "id": "1abb6739-3591-4f87-859e-2c71684cdfce"
      },
      "source": [
        "* Perform basic data preprocessing using Scikit-Learn\n",
        "* Model a regression task using the Scikit-Learn and Snap ML Python APIs\n",
        "* Train a Decision Tree Regressor model using Scikit-Learn and Snap ML\n",
        "* Run inference and assess the quality of the trained models\n"
      ]
    },
    {
      "cell_type": "markdown",
      "metadata": {
        "id": "0125d27a-d766-4704-b8d3-bbf3f24c878f"
      },
      "source": [
        "## Table of Contents\n"
      ]
    },
    {
      "cell_type": "markdown",
      "metadata": {
        "id": "91fdaccd-08f9-4b0d-83aa-62723ffde064"
      },
      "source": [
        "<div class=\"alert alert-block alert-info\" style=\"margin-top: 10px\">\n",
        "    <ol>\n",
        "        <li><a href=\"#introduction\">Introduction</a></li>\n",
        "        <li><a href=\"#import_libraries\">Import Libraries</a></li>\n",
        "        <li><a href=\"#dataset_analysis\">Dataset Analysis</a></li>\n",
        "        <li><a href=\"#dataset_preprocessing\">Dataset Preprocessing</a></li>\n",
        "        <li><a href=\"#dataset_split\">Dataset Train/Test Split</a></li>\n",
        "        <li><a href=\"#dt_sklearn\">Build a Decision Tree Regressor model with Scikit-Learn</a></li>\n",
        "        <li><a href=\"#dt_snap\">Build a Decision Tree Regressor model with Snap ML</a></li>\n",
        "        <li><a href=\"#dt_sklearn_snap\">Evaluate the Scikit-Learn and Snap ML Decision Tree Regressors</a></li>\n",
        "    </ol>\n",
        "</div>\n",
        "<br>\n",
        "<hr>\n"
      ]
    },
    {
      "cell_type": "markdown",
      "metadata": {
        "id": "b379543a-bd94-4a3e-90fc-1feadcfe5dde"
      },
      "source": [
        "<div id=\"Introduction\">\n",
        "    <h2>Introduction</h2>\n",
        "    <br>The dataset used in this exercise session is publicly available here: https://www1.nyc.gov/site/tlc/about/tlc-trip-record-data.page (all rights reserved by Taxi & Limousine Commission(TLC), City of New York). The TLC Yellow Taxi Trip Records of June, 2019 are used in this notebook. The prediction of the tip amount can be modeled as a regression problem. To train the model you can use part of the input dataset and the remaining data can be used to assess the quality of the trained model. First, let's download the dataset.\n",
        "    <br>\n",
        "</div>\n"
      ]
    },
    {
      "cell_type": "code",
      "metadata": {
        "id": "255f4f79-2034-4ae2-a947-0d273065a561"
      },
      "outputs": [],
      "source": [
        "# download June 2020 TLC Yellow Taxi Trip records\n",
        "# !wget -nc https://s3.amazonaws.com/nyc-tlc/trip+data/yellow_tripdata_2019-06.csv\n",
        "!wget https://cf-courses-data.s3.us.cloud-object-storage.appdomain.cloud/IBMDeveloperSkillsNetwork-ML0101EN-SkillsNetwork/labs/Module%203/data/yellow_tripdata_2019-06.csv"
      ],
      "execution_count": null
    },
    {
      "cell_type": "markdown",
      "metadata": {
        "id": "e51cea6f-21bc-4731-9b87-95c7067e09bb"
      },
      "source": [
        "__Did you know?__ When it comes to Machine Learning, you will most likely be working with large datasets. As a business, where can you host your data? IBM is offering a unique opportunity for businesses, with 10 Tb of IBM Cloud Object Storage: [Sign up now for free](https://ibm.biz/BdPfxf?utm_medium=Exinfluencer&utm_source=Exinfluencer&utm_content=000026UJ&utm_term=10006555&utm_id=NA-SkillsNetwork-Channel-SkillsNetworkCoursesIBMDeveloperSkillsNetworkML0101ENSkillsNetwork1047-2022-01-01)\n"
      ]
    },
    {
      "cell_type": "markdown",
      "metadata": {
        "id": "32a1ef7d-b0f9-4d85-ac24-1f5f228f21e9"
      },
      "source": [
        "<div id=\"import_libraries\">\n",
        "    <h2>Import Libraries</h2>\n",
        "</div>\n"
      ]
    },
    {
      "cell_type": "code",
      "metadata": {
        "id": "894d4c57-90ea-482b-ad54-4924571f848f"
      },
      "outputs": [],
      "source": [
        "# Snap ML is available on PyPI. To install it simply run the pip command below.\n",
        "!pip install snapml"
      ],
      "execution_count": null
    },
    {
      "cell_type": "code",
      "metadata": {
        "id": "56489e19-32f3-4065-be38-00fef64f38e0"
      },
      "outputs": [],
      "source": [
        "# Import the libraries we need to use in this lab\n",
        "from __future__ import print_function\n",
        "import numpy as np\n",
        "import pandas as pd\n",
        "import matplotlib.pyplot as plt\n",
        "%matplotlib inline\n",
        "from sklearn.model_selection import train_test_split\n",
        "from sklearn.preprocessing import normalize, StandardScaler, MinMaxScaler\n",
        "from sklearn.utils.class_weight import compute_sample_weight\n",
        "from sklearn.metrics import mean_squared_error\n",
        "import time\n",
        "import warnings\n",
        "import gc, sys\n",
        "warnings.filterwarnings('ignore')"
      ],
      "execution_count": null
    },
    {
      "cell_type": "markdown",
      "metadata": {
        "id": "665e3e65-6a30-4c06-9429-f4da514381b8"
      },
      "source": [
        "<div id=\"dataset_analysis\">\n",
        "    <h2>Dataset Analysis</h2>\n",
        "</div>\n"
      ]
    },
    {
      "cell_type": "markdown",
      "metadata": {
        "id": "7e062c59-91c9-41d8-8298-1fd13995d9f6"
      },
      "source": [
        "In this section you will read the dataset in a Pandas dataframe and visualize its content. You will also look at some data statistics.\n",
        "\n",
        "Note: A Pandas dataframe is a two-dimensional, size-mutable, potentially heterogeneous tabular data structure. For more information: https://pandas.pydata.org/docs/reference/api/pandas.DataFrame.html.\n"
      ]
    },
    {
      "cell_type": "code",
      "metadata": {
        "id": "f672b42d-51a2-4950-866a-f4a27574ec39"
      },
      "outputs": [],
      "source": [
        "# read the input data\n",
        "raw_data = pd.read_csv('yellow_tripdata_2019-06.csv')\n",
        "print(\"There are \" + str(len(raw_data)) + \" observations in the dataset.\")\n",
        "print(\"There are \" + str(len(raw_data.columns)) + \" variables in the dataset.\")\n",
        "\n",
        "# display first rows in the dataset\n",
        "raw_data.head()"
      ],
      "execution_count": null
    },
    {
      "cell_type": "code",
      "metadata": {
        "id": "51b9bf47-93bd-480a-9cce-85b288baa1d4"
      },
      "outputs": [],
      "source": [
        "#Reducing the data size to 100000 records\n",
        "raw_data=raw_data.head(100000)"
      ],
      "execution_count": null
    },
    {
      "cell_type": "markdown",
      "metadata": {
        "id": "c25dd231-318a-4fbd-8977-c7bd615a94bb"
      },
      "source": [
        "Each row in the dataset represents a taxi trip. As shown above, each row has 18 variables. One variable is called tip_amount and represents the target variable. Your objective will be to train a model that uses the other variables to predict the value of the tip_amount variable. Let's first clean the dataset and retrieve basic statistics about the target variable.\n"
      ]
    },
    {
      "cell_type": "code",
      "metadata": {
        "id": "dc929973-07a1-4c11-8237-54ee96eed829"
      },
      "outputs": [],
      "source": [
        "# some trips report 0 tip. it is assumed that these tips were paid in cash.\n",
        "# for this study we drop all these rows\n",
        "raw_data = raw_data[raw_data['tip_amount'] > 0]\n",
        "\n",
        "# we also remove some outliers, namely those where the tip was larger than the fare cost\n",
        "raw_data = raw_data[(raw_data['tip_amount'] <= raw_data['fare_amount'])]\n",
        "\n",
        "# we remove trips with very large fare cost\n",
        "raw_data = raw_data[((raw_data['fare_amount'] >=2) & (raw_data['fare_amount'] < 200))]\n",
        "\n",
        "# we drop variables that include the target variable in it, namely the total_amount\n",
        "clean_data = raw_data.drop(['total_amount'], axis=1)\n",
        "\n",
        "# release memory occupied by raw_data as we do not need it anymore\n",
        "# we are dealing with a large dataset, thus we need to make sure we do not run out of memory\n",
        "del raw_data\n",
        "gc.collect()\n",
        "\n",
        "# print the number of trips left in the dataset\n",
        "print(\"There are \" + str(len(clean_data)) + \" observations in the dataset.\")\n",
        "print(\"There are \" + str(len(clean_data.columns)) + \" variables in the dataset.\")\n",
        "\n",
        "plt.hist(clean_data.tip_amount.values, 16, histtype='bar', facecolor='g')\n",
        "plt.show()\n",
        "\n",
        "print(\"Minimum amount value is \", np.min(clean_data.tip_amount.values))\n",
        "print(\"Maximum amount value is \", np.max(clean_data.tip_amount.values))\n",
        "print(\"90% of the trips have a tip amount less or equal than \", np.percentile(clean_data.tip_amount.values, 90))"
      ],
      "execution_count": null
    },
    {
      "cell_type": "code",
      "metadata": {
        "id": "45d917f4-f2fc-43c0-91cd-28563509dec7"
      },
      "outputs": [],
      "source": [
        "# display first rows in the dataset\n",
        "clean_data.head()"
      ],
      "execution_count": null
    },
    {
      "cell_type": "markdown",
      "metadata": {
        "id": "d056328d-9996-4e18-a986-4b041575863d"
      },
      "source": [
        "By looking at the dataset in more detail, we see that it contains information such as pick-up and drop-off dates/times, pick-up and drop-off locations, payment types, driver-reported passenger counts etc. Before actually training a ML model, we will need to preprocess the data. We need to transform the data in a format that will be correctly handled by the models. For instance, we need to encode the categorical features.\n"
      ]
    },
    {
      "cell_type": "markdown",
      "metadata": {
        "id": "05dc3a63-bb84-4638-9586-e361285d6a0e"
      },
      "source": [
        "<div id=\"dataset_preprocessing\">\n",
        "    <h2>Dataset Preprocessing</h2>\n",
        "</div>\n"
      ]
    },
    {
      "cell_type": "markdown",
      "metadata": {
        "id": "f60ffd1e-cf70-4824-81d7-41c575127522"
      },
      "source": [
        "In this subsection you will prepare the data for training. \n"
      ]
    },
    {
      "cell_type": "code",
      "metadata": {
        "id": "36159b71-5187-4449-92ed-1efc4cd108ae"
      },
      "outputs": [],
      "source": [
        "clean_data['tpep_dropoff_datetime'] = pd.to_datetime(clean_data['tpep_dropoff_datetime'])\n",
        "clean_data['tpep_pickup_datetime'] = pd.to_datetime(clean_data['tpep_pickup_datetime'])\n",
        "\n",
        "# extract pickup and dropoff hour\n",
        "clean_data['pickup_hour'] = clean_data['tpep_pickup_datetime'].dt.hour\n",
        "clean_data['dropoff_hour'] = clean_data['tpep_dropoff_datetime'].dt.hour\n",
        "\n",
        "# extract pickup and dropoff day of week\n",
        "clean_data['pickup_day'] = clean_data['tpep_pickup_datetime'].dt.weekday\n",
        "clean_data['dropoff_day'] = clean_data['tpep_dropoff_datetime'].dt.weekday\n",
        "\n",
        "# compute trip time in minutes\n",
        "clean_data['trip_time'] = (clean_data['tpep_dropoff_datetime'] - clean_data['tpep_pickup_datetime']).astype('timedelta64[m]')\n",
        "\n",
        "# ideally use the full dataset for this exercise\n",
        "# however if you run into out of memory issues due to the data size, reduce it\n",
        "# for instance, in this example we use only the first 1M samples\n",
        "first_n_rows = 1000000\n",
        "clean_data = clean_data.head(first_n_rows)"
      ],
      "execution_count": null
    },
    {
      "cell_type": "code",
      "metadata": {
        "id": "b4b7fa06-f986-48f7-ab7c-7e18e9bfef86"
      },
      "outputs": [],
      "source": [
        "# drop the pickup and dropoff datetimes\n",
        "clean_data = clean_data.drop(['tpep_pickup_datetime', 'tpep_dropoff_datetime'], axis=1)\n",
        "\n",
        "# some features are categorical, we need to encode them\n",
        "# to encode them we use one-hot encoding from the Pandas package\n",
        "get_dummy_col = [\"VendorID\",\"RatecodeID\",\"store_and_fwd_flag\",\"PULocationID\", \"DOLocationID\",\"payment_type\", \"pickup_hour\", \"dropoff_hour\", \"pickup_day\", \"dropoff_day\"]\n",
        "proc_data = pd.get_dummies(clean_data, columns = get_dummy_col)\n",
        "\n",
        "# release memory occupied by clean_data as we do not need it anymore\n",
        "# we are dealing with a large dataset, thus we need to make sure we do not run out of memory\n",
        "del clean_data\n",
        "gc.collect()"
      ],
      "execution_count": null
    },
    {
      "cell_type": "code",
      "metadata": {
        "id": "9de1c3bc-eb84-42c2-b2cc-369f8204969c"
      },
      "outputs": [],
      "source": [
        "# extract the labels from the dataframe\n",
        "y = proc_data[['tip_amount']].values.astype('float32')\n",
        "\n",
        "# drop the target variable from the feature matrix\n",
        "proc_data = proc_data.drop(['tip_amount'], axis=1)\n",
        "\n",
        "# get the feature matrix used for training\n",
        "X = proc_data.values\n",
        "\n",
        "# normalize the feature matrix\n",
        "X = normalize(X, axis=1, norm='l1', copy=False)\n",
        "\n",
        "# print the shape of the features matrix and the labels vector\n",
        "print('X.shape=', X.shape, 'y.shape=', y.shape)"
      ],
      "execution_count": null
    },
    {
      "cell_type": "markdown",
      "metadata": {
        "id": "d3174e5a-e3b8-4c54-b9bf-c225d5f251a6"
      },
      "source": [
        "<div id=\"dataset_split\">\n",
        "    <h2>Dataset Train/Test Split</h2>\n",
        "</div>\n"
      ]
    },
    {
      "cell_type": "markdown",
      "metadata": {
        "id": "906b2b9d-5d47-4dce-8679-de83f0ecd423"
      },
      "source": [
        "Now that the dataset is ready for building the classification models, you need to first divide the pre-processed dataset into a subset to be used for training the model (the train set) and a subset to be used for evaluating the quality of the model (the test set).\n"
      ]
    },
    {
      "cell_type": "code",
      "metadata": {
        "id": "c82ad786-24ec-4da1-9c25-84e590347a59"
      },
      "outputs": [],
      "source": [
        "X_train, X_test, y_train, y_test = train_test_split(X, y, test_size=0.3, random_state=42)\n",
        "print('X_train.shape=', X_train.shape, 'Y_train.shape=', y_train.shape)\n",
        "print('X_test.shape=', X_test.shape, 'Y_test.shape=', y_test.shape)"
      ],
      "execution_count": null
    },
    {
      "cell_type": "markdown",
      "metadata": {
        "id": "20e1a001-4d7b-4c3e-b1df-8fb0d3c369f1"
      },
      "source": [
        "<div id=\"dt_sklearn\">\n",
        "    <h2>Build a Decision Tree Regressor model with Scikit-Learn</h2>\n",
        "</div>\n"
      ]
    },
    {
      "cell_type": "code",
      "metadata": {
        "id": "84a02537-3e10-446a-a79c-217b2d3be4f1"
      },
      "outputs": [],
      "source": [
        "# import the Decision Tree Regression Model from scikit-learn\n",
        "from sklearn.tree import DecisionTreeRegressor\n",
        "\n",
        "# for reproducible output across multiple function calls, set random_state to a given integer value\n",
        "sklearn_dt = DecisionTreeRegressor(max_depth=8, random_state=35)\n",
        "\n",
        "# train a Decision Tree Regressor using scikit-learn\n",
        "t0 = time.time()\n",
        "sklearn_dt.fit(X_train, y_train)\n",
        "sklearn_time = time.time()-t0\n",
        "print(\"[Scikit-Learn] Training time (s):  {0:.5f}\".format(sklearn_time))"
      ],
      "execution_count": null
    },
    {
      "cell_type": "markdown",
      "metadata": {
        "id": "7b4cffe8-60c8-4cf4-9840-95912c25a75a"
      },
      "source": [
        "<div id=\"dt_snapml\">\n",
        "    <h2>Build a Decision Tree Regressor model with Snap ML</h2>\n",
        "</div>\n"
      ]
    },
    {
      "cell_type": "code",
      "metadata": {
        "id": "df11aa2e-9238-4a73-a5a7-a7cbe18d62f6"
      },
      "outputs": [],
      "source": [
        "# import the Decision Tree Regressor Model from Snap ML\n",
        "from snapml import DecisionTreeRegressor\n",
        "\n",
        "# in contrast to sklearn's Decision Tree, Snap ML offers multi-threaded CPU/GPU training \n",
        "# to use the GPU, one needs to set the use_gpu parameter to True\n",
        "# snapml_dt = DecisionTreeRegressor(max_depth=4, random_state=45, use_gpu=True)\n",
        "\n",
        "# to set the number of CPU threads used at training time, one needs to set the n_jobs parameter\n",
        "# for reproducible output across multiple function calls, set random_state to a given integer value\n",
        "snapml_dt = DecisionTreeRegressor(max_depth=8, random_state=45, n_jobs=4)\n",
        "\n",
        "# train a Decision Tree Regressor model using Snap ML\n",
        "t0 = time.time()\n",
        "snapml_dt.fit(X_train, y_train)\n",
        "snapml_time = time.time()-t0\n",
        "print(\"[Snap ML] Training time (s):  {0:.5f}\".format(snapml_time))"
      ],
      "execution_count": null
    },
    {
      "cell_type": "markdown",
      "metadata": {
        "id": "8380bfdc-f713-42d5-8ff6-b9837b25c090"
      },
      "source": [
        "<div id=\"dt_sklearn_snapml\">\n",
        "    <h2>Evaluate the Scikit-Learn and Snap ML Decision Tree Regressor Models</h2>\n",
        "</div>\n"
      ]
    },
    {
      "cell_type": "code",
      "metadata": {
        "id": "f2adb3e7-b1cc-4bf8-902c-634ca86eb775"
      },
      "outputs": [],
      "source": [
        "# Snap ML vs Scikit-Learn training speedup\n",
        "training_speedup = sklearn_time/snapml_time\n",
        "print('[Decision Tree Regressor] Snap ML vs. Scikit-Learn speedup : {0:.2f}x '.format(training_speedup))\n",
        "\n",
        "# run inference using the sklearn model\n",
        "sklearn_pred = sklearn_dt.predict(X_test)\n",
        "\n",
        "# evaluate mean squared error on the test dataset\n",
        "sklearn_mse = mean_squared_error(y_test, sklearn_pred)\n",
        "print('[Scikit-Learn] MSE score : {0:.3f}'.format(sklearn_mse))\n",
        "\n",
        "# run inference using the Snap ML model\n",
        "snapml_pred = snapml_dt.predict(X_test)\n",
        "\n",
        "# evaluate mean squared error on the test dataset\n",
        "snapml_mse = mean_squared_error(y_test, snapml_pred)\n",
        "print('[Snap ML] MSE score : {0:.3f}'.format(snapml_mse))"
      ],
      "execution_count": null
    },
    {
      "cell_type": "markdown",
      "metadata": {
        "id": "f3f9dc06-433e-4d9e-b433-48f4381ff340"
      },
      "source": [
        "As shown above both decision tree models provide the same score on the test dataset. However Snap ML runs the training routine faster than Scikit-Learn. This is one of the advantages of using Snap ML: acceleration of training of classical machine learning models, such as linear and tree-based models. For more Snap ML examples, please visit [snapml-examples](https://ibm.biz/BdPfxP?utm_medium=Exinfluencer&utm_source=Exinfluencer&utm_content=000026UJ&utm_term=10006555&utm_id=NA-SkillsNetwork-Channel-SkillsNetworkCoursesIBMDeveloperSkillsNetworkML0101ENSkillsNetwork1047-2022-01-01). Moreover, as shown above, not only is Snap ML seemlessly accelerating scikit-learn applications, but the library's Python API is also compatible with scikit-learn metrics and data preprocessors.\n"
      ]
    },
    {
      "cell_type": "markdown",
      "metadata": {
        "id": "e6455c9e-0c2a-4821-8f06-2c8143bb5689"
      },
      "source": [
        "### Practice\n"
      ]
    },
    {
      "cell_type": "markdown",
      "metadata": {
        "id": "6114ef80-30ee-409f-9cea-7f94cb74401d"
      },
      "source": [
        "## Authors\n"
      ]
    },
    {
      "cell_type": "markdown",
      "metadata": {
        "id": "7fae00f5-4588-46b5-abfc-ef0031a3c993"
      },
      "source": [
        "Andreea Anghel\n"
      ]
    },
    {
      "cell_type": "markdown",
      "metadata": {
        "id": "5fbefa41-4bbc-4be7-a003-366c19764044"
      },
      "source": [
        "### Other Contributors\n"
      ]
    },
    {
      "cell_type": "markdown",
      "metadata": {
        "id": "57373d85-be2a-4fc2-9b13-b33448c65202"
      },
      "source": [
        "Sangeeth Keeriyadath \n",
        "\n",
        "Joseph Santarcangelo\n"
      ]
    },
    {
      "cell_type": "markdown",
      "metadata": {
        "id": "982f58b1-11d7-410d-994e-4e69d64a905c"
      },
      "source": [
        "## Change Log\n"
      ]
    },
    {
      "cell_type": "markdown",
      "metadata": {
        "id": "34f60b1e-04c0-4641-aed5-9d66e01c04a0"
      },
      "source": [
        "|  Date (YYYY-MM-DD) |  Version | Changed By  |  Change Description |\n",
        "|---|---|---|---|\n",
        "| 2021-08-31  | 0.1  | AAN  |  Created Lab Content |\n",
        "| 2023-01-24  | 0.2  | Anita Verma  |  Reduced data size|\n"
      ]
    },
    {
      "cell_type": "markdown",
      "metadata": {
        "id": "03fd3e77-dc72-498b-8757-b8d091eea291"
      },
      "source": [
        " Copyright &copy; 2021 IBM Corporation. This notebook and its source code are released under the terms of the [MIT License](https://cognitiveclass.ai/mit-license/?utm_medium=Exinfluencer&utm_source=Exinfluencer&utm_content=000026UJ&utm_term=10006555&utm_id=NA-SkillsNetwork-Channel-SkillsNetworkCoursesIBMDeveloperSkillsNetworkML0101ENSkillsNetwork1047-2022-01-01).\n"
      ]
    }
  ],
  "metadata": {
    "kernelspec": {
      "display_name": "Python",
      "language": "python",
      "name": "conda-env-python-py"
    },
    "language_info": {
      "name": ""
    },
    "colab": {
      "provenance": [],
      "include_colab_link": true
    }
  },
  "nbformat": 4,
  "nbformat_minor": 0
}